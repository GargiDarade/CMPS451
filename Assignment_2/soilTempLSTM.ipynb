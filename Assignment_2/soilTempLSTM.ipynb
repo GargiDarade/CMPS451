{
 "cells": [
  {
   "cell_type": "code",
   "execution_count": 83,
   "metadata": {},
   "outputs": [],
   "source": [
    "# implementation of LSTM Model to predict the soil temperature for the next 6 months, using Python in jupyter notebook\n",
    "# Student Name: Gargi Darade\n",
    "# Subject/Class: CMPS 451 Artificial Intelligence\n",
    "\n",
    "#Step 1:- Import the required libraries\n",
    "#Numpy for statistical computations\n",
    "#Matplotlib to plot the graph \n",
    "#make_blobs from sklearn.datasets\n",
    "import pandas as pd\n",
    "import numpy as np\n",
    "import matplotlib.pyplot as plt\n",
    "import seaborn as sns\n",
    "\n",
    "#from sklearn.datasets import make_blobs\n",
    "from sklearn.model_selection import train_test_split\n",
    "from sklearn.preprocessing import MinMaxScaler\n",
    "#!pip install tensorflow  \n",
    "import tensorflow as tf"
   ]
  },
  {
   "cell_type": "code",
   "execution_count": 84,
   "metadata": {},
   "outputs": [
    {
     "name": "stdout",
     "output_type": "stream",
     "text": [
      "131998\n"
     ]
    },
    {
     "data": {
      "text/html": [
       "<div>\n",
       "<style scoped>\n",
       "    .dataframe tbody tr th:only-of-type {\n",
       "        vertical-align: middle;\n",
       "    }\n",
       "\n",
       "    .dataframe tbody tr th {\n",
       "        vertical-align: top;\n",
       "    }\n",
       "\n",
       "    .dataframe thead th {\n",
       "        text-align: right;\n",
       "    }\n",
       "</style>\n",
       "<table border=\"1\" class=\"dataframe\">\n",
       "  <thead>\n",
       "    <tr style=\"text-align: right;\">\n",
       "      <th></th>\n",
       "      <th>date</th>\n",
       "      <th>naturaltemperature_5</th>\n",
       "      <th>windspeedscalar</th>\n",
       "      <th>temperature_1p5</th>\n",
       "      <th>temperature_2</th>\n",
       "      <th>relativehumidity</th>\n",
       "      <th>stationpressure</th>\n",
       "      <th>solarradiation</th>\n",
       "      <th>windspeed_20f</th>\n",
       "    </tr>\n",
       "  </thead>\n",
       "  <tbody>\n",
       "    <tr>\n",
       "      <td>0</td>\n",
       "      <td>1/2/2001 2:00</td>\n",
       "      <td>0.939</td>\n",
       "      <td>-4.308</td>\n",
       "      <td>4.611</td>\n",
       "      <td>4.599</td>\n",
       "      <td>88.60</td>\n",
       "      <td>4.156</td>\n",
       "      <td>0.335</td>\n",
       "      <td>5.325</td>\n",
       "    </tr>\n",
       "    <tr>\n",
       "      <td>1</td>\n",
       "      <td>1/2/2001 3:00</td>\n",
       "      <td>0.950</td>\n",
       "      <td>-4.554</td>\n",
       "      <td>4.283</td>\n",
       "      <td>4.273</td>\n",
       "      <td>52.06</td>\n",
       "      <td>3.964</td>\n",
       "      <td>0.494</td>\n",
       "      <td>5.292</td>\n",
       "    </tr>\n",
       "    <tr>\n",
       "      <td>2</td>\n",
       "      <td>1/2/2001 4:00</td>\n",
       "      <td>0.958</td>\n",
       "      <td>-4.513</td>\n",
       "      <td>3.359</td>\n",
       "      <td>3.347</td>\n",
       "      <td>70.40</td>\n",
       "      <td>4.891</td>\n",
       "      <td>0.230</td>\n",
       "      <td>3.822</td>\n",
       "    </tr>\n",
       "    <tr>\n",
       "      <td>3</td>\n",
       "      <td>1/2/2001 5:00</td>\n",
       "      <td>0.969</td>\n",
       "      <td>-4.670</td>\n",
       "      <td>3.620</td>\n",
       "      <td>3.606</td>\n",
       "      <td>64.33</td>\n",
       "      <td>4.952</td>\n",
       "      <td>0.276</td>\n",
       "      <td>4.345</td>\n",
       "    </tr>\n",
       "    <tr>\n",
       "      <td>4</td>\n",
       "      <td>1/2/2001 6:00</td>\n",
       "      <td>0.976</td>\n",
       "      <td>-5.170</td>\n",
       "      <td>3.819</td>\n",
       "      <td>3.807</td>\n",
       "      <td>62.07</td>\n",
       "      <td>4.699</td>\n",
       "      <td>0.327</td>\n",
       "      <td>4.508</td>\n",
       "    </tr>\n",
       "  </tbody>\n",
       "</table>\n",
       "</div>"
      ],
      "text/plain": [
       "            date  naturaltemperature_5  windspeedscalar  temperature_1p5  \\\n",
       "0  1/2/2001 2:00                 0.939           -4.308            4.611   \n",
       "1  1/2/2001 3:00                 0.950           -4.554            4.283   \n",
       "2  1/2/2001 4:00                 0.958           -4.513            3.359   \n",
       "3  1/2/2001 5:00                 0.969           -4.670            3.620   \n",
       "4  1/2/2001 6:00                 0.976           -5.170            3.819   \n",
       "\n",
       "   temperature_2  relativehumidity  stationpressure  solarradiation  \\\n",
       "0          4.599             88.60            4.156           0.335   \n",
       "1          4.273             52.06            3.964           0.494   \n",
       "2          3.347             70.40            4.891           0.230   \n",
       "3          3.606             64.33            4.952           0.276   \n",
       "4          3.807             62.07            4.699           0.327   \n",
       "\n",
       "   windspeed_20f  \n",
       "0          5.325  \n",
       "1          5.292  \n",
       "2          3.822  \n",
       "3          4.345  \n",
       "4          4.508  "
      ]
     },
     "execution_count": 84,
     "metadata": {},
     "output_type": "execute_result"
    }
   ],
   "source": [
    "data_path = 'psspredict_new010.csv'\n",
    "\n",
    "# create pandas dataframe\n",
    "df = pd.read_csv(data_path)\n",
    "\n",
    "# remove spaces on the column\n",
    "df.columns = df.columns.str.lstrip()\n",
    "df.columns = df.columns.str.rstrip()\n",
    "\n",
    "# print out sample dataset\n",
    "print(len(df))\n",
    "df.head()"
   ]
  },
  {
   "cell_type": "code",
   "execution_count": 85,
   "metadata": {},
   "outputs": [
    {
     "data": {
      "text/plain": [
       "date                    0\n",
       "naturaltemperature_5    0\n",
       "windspeedscalar         0\n",
       "temperature_1p5         0\n",
       "temperature_2           0\n",
       "relativehumidity        0\n",
       "stationpressure         0\n",
       "solarradiation          0\n",
       "windspeed_20f           0\n",
       "dtype: int64"
      ]
     },
     "execution_count": 85,
     "metadata": {},
     "output_type": "execute_result"
    }
   ],
   "source": [
    "# check number of nan values in dataframe\n",
    "df.isna().sum()"
   ]
  },
  {
   "cell_type": "code",
   "execution_count": 86,
   "metadata": {},
   "outputs": [
    {
     "data": {
      "image/png": "[encoded data removed]",
      "text/plain": [
       "<Figure size 360x360 with 1 Axes>"
      ]
     },
     "metadata": {
      "needs_background": "light"
     },
     "output_type": "display_data"
    }
   ],
   "source": [
    "# plot to see the soil temperature varience\n",
    "#conda update --all\n",
    "#pip install -U seaborn\n",
    "plt.figure(figsize=(5, 5))\n",
    "sns.histplot(df['naturaltemperature_5'],bins=[i for i in range(0,61,5)], kde=False)\n",
    "plt.title(\"Distribution of Soil Temperatures\")\n",
    "plt.grid()\n",
    "#plt.tight_layout()\n",
    "plt.savefig(\"SoilTemp2.png\")\n",
    "plt.show()\n",
    "#sns.histplot(df['windspeedscalar'],bins=[i for i in range(0,61,5)], kde=False)\n",
    "#plt.title(\"Distribution of Wind Speed\")\n",
    "#plt.grid()\n",
    "#plt.show()"
   ]
  },
  {
   "cell_type": "code",
   "execution_count": 87,
   "metadata": {},
   "outputs": [
    {
     "name": "stderr",
     "output_type": "stream",
     "text": [
      "C:\\ProgramData\\Anaconda3\\lib\\site-packages\\ipykernel_launcher.py:6: UserWarning: \n",
      "\n",
      "`distplot` is a deprecated function and will be removed in seaborn v0.14.0.\n",
      "\n",
      "Please adapt your code to use either `displot` (a figure-level function with\n",
      "similar flexibility) or `histplot` (an axes-level function for histograms).\n",
      "\n",
      "For a guide to updating your code to use the new functions, please see\n",
      "https://gist.github.com/mwaskom/de44147ed2974457ad6372750bbe5751\n",
      "\n",
      "  \n",
      "C:\\ProgramData\\Anaconda3\\lib\\site-packages\\ipykernel_launcher.py:7: UserWarning: \n",
      "\n",
      "`distplot` is a deprecated function and will be removed in seaborn v0.14.0.\n",
      "\n",
      "Please adapt your code to use either `displot` (a figure-level function with\n",
      "similar flexibility) or `histplot` (an axes-level function for histograms).\n",
      "\n",
      "For a guide to updating your code to use the new functions, please see\n",
      "https://gist.github.com/mwaskom/de44147ed2974457ad6372750bbe5751\n",
      "\n",
      "  import sys\n",
      "C:\\ProgramData\\Anaconda3\\lib\\site-packages\\ipykernel_launcher.py:8: UserWarning: \n",
      "\n",
      "`distplot` is a deprecated function and will be removed in seaborn v0.14.0.\n",
      "\n",
      "Please adapt your code to use either `displot` (a figure-level function with\n",
      "similar flexibility) or `histplot` (an axes-level function for histograms).\n",
      "\n",
      "For a guide to updating your code to use the new functions, please see\n",
      "https://gist.github.com/mwaskom/de44147ed2974457ad6372750bbe5751\n",
      "\n",
      "  \n",
      "C:\\ProgramData\\Anaconda3\\lib\\site-packages\\ipykernel_launcher.py:9: UserWarning: \n",
      "\n",
      "`distplot` is a deprecated function and will be removed in seaborn v0.14.0.\n",
      "\n",
      "Please adapt your code to use either `displot` (a figure-level function with\n",
      "similar flexibility) or `histplot` (an axes-level function for histograms).\n",
      "\n",
      "For a guide to updating your code to use the new functions, please see\n",
      "https://gist.github.com/mwaskom/de44147ed2974457ad6372750bbe5751\n",
      "\n",
      "  if __name__ == '__main__':\n",
      "C:\\ProgramData\\Anaconda3\\lib\\site-packages\\ipykernel_launcher.py:10: UserWarning: \n",
      "\n",
      "`distplot` is a deprecated function and will be removed in seaborn v0.14.0.\n",
      "\n",
      "Please adapt your code to use either `displot` (a figure-level function with\n",
      "similar flexibility) or `histplot` (an axes-level function for histograms).\n",
      "\n",
      "For a guide to updating your code to use the new functions, please see\n",
      "https://gist.github.com/mwaskom/de44147ed2974457ad6372750bbe5751\n",
      "\n",
      "  # Remove the CWD from sys.path while we load stuff.\n",
      "C:\\ProgramData\\Anaconda3\\lib\\site-packages\\ipykernel_launcher.py:11: UserWarning: \n",
      "\n",
      "`distplot` is a deprecated function and will be removed in seaborn v0.14.0.\n",
      "\n",
      "Please adapt your code to use either `displot` (a figure-level function with\n",
      "similar flexibility) or `histplot` (an axes-level function for histograms).\n",
      "\n",
      "For a guide to updating your code to use the new functions, please see\n",
      "https://gist.github.com/mwaskom/de44147ed2974457ad6372750bbe5751\n",
      "\n",
      "  # This is added back by InteractiveShellApp.init_path()\n",
      "C:\\ProgramData\\Anaconda3\\lib\\site-packages\\ipykernel_launcher.py:12: UserWarning: \n",
      "\n",
      "`distplot` is a deprecated function and will be removed in seaborn v0.14.0.\n",
      "\n",
      "Please adapt your code to use either `displot` (a figure-level function with\n",
      "similar flexibility) or `histplot` (an axes-level function for histograms).\n",
      "\n",
      "For a guide to updating your code to use the new functions, please see\n",
      "https://gist.github.com/mwaskom/de44147ed2974457ad6372750bbe5751\n",
      "\n",
      "  if sys.path[0] == '':\n",
      "C:\\ProgramData\\Anaconda3\\lib\\site-packages\\ipykernel_launcher.py:13: UserWarning: \n",
      "\n",
      "`distplot` is a deprecated function and will be removed in seaborn v0.14.0.\n",
      "\n",
      "Please adapt your code to use either `displot` (a figure-level function with\n",
      "similar flexibility) or `histplot` (an axes-level function for histograms).\n",
      "\n",
      "For a guide to updating your code to use the new functions, please see\n",
      "https://gist.github.com/mwaskom/de44147ed2974457ad6372750bbe5751\n",
      "\n",
      "  del sys.path[0]\n"
     ]
    },
    {
     "data": {
      "image/png": "[encoded data removed]",
      "text/plain": [
       "<Figure size 504x504 with 8 Axes>"
      ]
     },
     "metadata": {
      "needs_background": "light"
     },
     "output_type": "display_data"
    }
   ],
   "source": [
    "f, axes = plt.subplots(2, 4, figsize=(7, 7), sharex=True)\n",
    "\n",
    "sns.despine(left=True)\n",
    "\n",
    "# Plot a simple distribution of the desired columns\n",
    "sns.distplot(df['naturaltemperature_5'], color=\"b\", ax=axes[0, 0])\n",
    "sns.distplot(df['windspeedscalar'], color=\"m\", ax=axes[0, 1])\n",
    "sns.distplot(df['temperature_1p5'], color=\"r\", ax=axes[0, 2])\n",
    "sns.distplot(df['temperature_2'], color=\"g\", ax=axes[0, 3])\n",
    "sns.distplot(df['relativehumidity'], color=\"b\", ax=axes[1, 0])\n",
    "sns.distplot(df['stationpressure'], color=\"m\", ax=axes[1, 1])\n",
    "sns.distplot(df['solarradiation'], color=\"r\", ax=axes[1, 2])\n",
    "sns.distplot(df['windspeed_20f'], color=\"g\", ax=axes[1, 3])\n",
    "\n",
    "plt.setp(axes, yticks=[])\n",
    "plt.tight_layout()\n",
    "#plt.grid()\n",
    "#plt.show()\n",
    "plt.savefig(\"sample.png\")"
   ]
  },
  {
   "cell_type": "code",
   "execution_count": 88,
   "metadata": {},
   "outputs": [
    {
     "name": "stderr",
     "output_type": "stream",
     "text": [
      "C:\\ProgramData\\Anaconda3\\lib\\site-packages\\ipykernel_launcher.py:6: UserWarning: \n",
      "\n",
      "`distplot` is a deprecated function and will be removed in seaborn v0.14.0.\n",
      "\n",
      "Please adapt your code to use either `displot` (a figure-level function with\n",
      "similar flexibility) or `histplot` (an axes-level function for histograms).\n",
      "\n",
      "For a guide to updating your code to use the new functions, please see\n",
      "https://gist.github.com/mwaskom/de44147ed2974457ad6372750bbe5751\n",
      "\n",
      "  \n",
      "C:\\ProgramData\\Anaconda3\\lib\\site-packages\\ipykernel_launcher.py:7: UserWarning: \n",
      "\n",
      "`distplot` is a deprecated function and will be removed in seaborn v0.14.0.\n",
      "\n",
      "Please adapt your code to use either `displot` (a figure-level function with\n",
      "similar flexibility) or `histplot` (an axes-level function for histograms).\n",
      "\n",
      "For a guide to updating your code to use the new functions, please see\n",
      "https://gist.github.com/mwaskom/de44147ed2974457ad6372750bbe5751\n",
      "\n",
      "  import sys\n",
      "C:\\ProgramData\\Anaconda3\\lib\\site-packages\\ipykernel_launcher.py:8: UserWarning: \n",
      "\n",
      "`distplot` is a deprecated function and will be removed in seaborn v0.14.0.\n",
      "\n",
      "Please adapt your code to use either `displot` (a figure-level function with\n",
      "similar flexibility) or `histplot` (an axes-level function for histograms).\n",
      "\n",
      "For a guide to updating your code to use the new functions, please see\n",
      "https://gist.github.com/mwaskom/de44147ed2974457ad6372750bbe5751\n",
      "\n",
      "  \n",
      "C:\\ProgramData\\Anaconda3\\lib\\site-packages\\ipykernel_launcher.py:9: UserWarning: \n",
      "\n",
      "`distplot` is a deprecated function and will be removed in seaborn v0.14.0.\n",
      "\n",
      "Please adapt your code to use either `displot` (a figure-level function with\n",
      "similar flexibility) or `histplot` (an axes-level function for histograms).\n",
      "\n",
      "For a guide to updating your code to use the new functions, please see\n",
      "https://gist.github.com/mwaskom/de44147ed2974457ad6372750bbe5751\n",
      "\n",
      "  if __name__ == '__main__':\n"
     ]
    },
    {
     "data": {
      "image/png": "[encoded data removed]",
      "text/plain": [
       "<Figure size 1080x360 with 4 Axes>"
      ]
     },
     "metadata": {
      "needs_background": "light"
     },
     "output_type": "display_data"
    }
   ],
   "source": [
    "f, axes = plt.subplots(1, 4, figsize=(15, 5), sharex=True)\n",
    "\n",
    "sns.despine(left=True)\n",
    "\n",
    "# Plot a simple distribution of the desired columns\n",
    "sns.distplot(df['naturaltemperature_5'], color=\"b\", ax=axes[0])\n",
    "sns.distplot(df['windspeedscalar'], color=\"m\", ax=axes[1])\n",
    "sns.distplot(df['temperature_1p5'], color=\"r\", ax=axes[2])\n",
    "sns.distplot(df['temperature_2'], color=\"g\", ax=axes[3])\n",
    "\n",
    "plt.setp(axes, yticks=[])\n",
    "plt.tight_layout()\n",
    "#plt.grid()\n",
    "#plt.show()\n",
    "plt.savefig(\"sample.png\")"
   ]
  },
  {
   "cell_type": "code",
   "execution_count": 89,
   "metadata": {},
   "outputs": [
    {
     "name": "stderr",
     "output_type": "stream",
     "text": [
      "C:\\ProgramData\\Anaconda3\\lib\\site-packages\\ipykernel_launcher.py:6: UserWarning: \n",
      "\n",
      "`distplot` is a deprecated function and will be removed in seaborn v0.14.0.\n",
      "\n",
      "Please adapt your code to use either `displot` (a figure-level function with\n",
      "similar flexibility) or `histplot` (an axes-level function for histograms).\n",
      "\n",
      "For a guide to updating your code to use the new functions, please see\n",
      "https://gist.github.com/mwaskom/de44147ed2974457ad6372750bbe5751\n",
      "\n",
      "  \n",
      "C:\\ProgramData\\Anaconda3\\lib\\site-packages\\ipykernel_launcher.py:7: UserWarning: \n",
      "\n",
      "`distplot` is a deprecated function and will be removed in seaborn v0.14.0.\n",
      "\n",
      "Please adapt your code to use either `displot` (a figure-level function with\n",
      "similar flexibility) or `histplot` (an axes-level function for histograms).\n",
      "\n",
      "For a guide to updating your code to use the new functions, please see\n",
      "https://gist.github.com/mwaskom/de44147ed2974457ad6372750bbe5751\n",
      "\n",
      "  import sys\n",
      "C:\\ProgramData\\Anaconda3\\lib\\site-packages\\ipykernel_launcher.py:8: UserWarning: \n",
      "\n",
      "`distplot` is a deprecated function and will be removed in seaborn v0.14.0.\n",
      "\n",
      "Please adapt your code to use either `displot` (a figure-level function with\n",
      "similar flexibility) or `histplot` (an axes-level function for histograms).\n",
      "\n",
      "For a guide to updating your code to use the new functions, please see\n",
      "https://gist.github.com/mwaskom/de44147ed2974457ad6372750bbe5751\n",
      "\n",
      "  \n",
      "C:\\ProgramData\\Anaconda3\\lib\\site-packages\\ipykernel_launcher.py:9: UserWarning: \n",
      "\n",
      "`distplot` is a deprecated function and will be removed in seaborn v0.14.0.\n",
      "\n",
      "Please adapt your code to use either `displot` (a figure-level function with\n",
      "similar flexibility) or `histplot` (an axes-level function for histograms).\n",
      "\n",
      "For a guide to updating your code to use the new functions, please see\n",
      "https://gist.github.com/mwaskom/de44147ed2974457ad6372750bbe5751\n",
      "\n",
      "  if __name__ == '__main__':\n"
     ]
    },
    {
     "data": {
      "image/png": "[encoded data removed]",
      "text/plain": [
       "<Figure size 1080x360 with 4 Axes>"
      ]
     },
     "metadata": {
      "needs_background": "light"
     },
     "output_type": "display_data"
    }
   ],
   "source": [
    "f, axes = plt.subplots(1, 4, figsize=(15, 5), sharex=True)\n",
    "\n",
    "sns.despine(left=True)\n",
    "\n",
    "# Plot a simple distribution of the desired columns\n",
    "sns.distplot(df['relativehumidity'], color=\"b\", ax=axes[0])\n",
    "sns.distplot(df['stationpressure'], color=\"m\", ax=axes[1])\n",
    "sns.distplot(df['solarradiation'], color=\"r\", ax=axes[2])\n",
    "sns.distplot(df['windspeed_20f'], color=\"g\", ax=axes[3])\n",
    "\n",
    "plt.setp(axes, yticks=[])\n",
    "plt.tight_layout()\n",
    "#plt.grid()\n",
    "#plt.show()\n",
    "plt.savefig(\"sample1.png\")"
   ]
  },
  {
   "cell_type": "code",
   "execution_count": 90,
   "metadata": {},
   "outputs": [
    {
     "data": {
      "text/html": [
       "<div>\n",
       "<style scoped>\n",
       "    .dataframe tbody tr th:only-of-type {\n",
       "        vertical-align: middle;\n",
       "    }\n",
       "\n",
       "    .dataframe tbody tr th {\n",
       "        vertical-align: top;\n",
       "    }\n",
       "\n",
       "    .dataframe thead th {\n",
       "        text-align: right;\n",
       "    }\n",
       "</style>\n",
       "<table border=\"1\" class=\"dataframe\">\n",
       "  <thead>\n",
       "    <tr style=\"text-align: right;\">\n",
       "      <th></th>\n",
       "      <th>naturaltemperature_5</th>\n",
       "      <th>windspeedscalar</th>\n",
       "      <th>temperature_1p5</th>\n",
       "      <th>temperature_2</th>\n",
       "      <th>relativehumidity</th>\n",
       "      <th>stationpressure</th>\n",
       "      <th>solarradiation</th>\n",
       "      <th>windspeed_20f</th>\n",
       "    </tr>\n",
       "    <tr>\n",
       "      <th>date</th>\n",
       "      <th></th>\n",
       "      <th></th>\n",
       "      <th></th>\n",
       "      <th></th>\n",
       "      <th></th>\n",
       "      <th></th>\n",
       "      <th></th>\n",
       "      <th></th>\n",
       "    </tr>\n",
       "  </thead>\n",
       "  <tbody>\n",
       "    <tr>\n",
       "      <td>2001-01-02 02:00:00</td>\n",
       "      <td>0.939</td>\n",
       "      <td>-4.308</td>\n",
       "      <td>4.611</td>\n",
       "      <td>4.599</td>\n",
       "      <td>88.60</td>\n",
       "      <td>4.156</td>\n",
       "      <td>0.335</td>\n",
       "      <td>5.325</td>\n",
       "    </tr>\n",
       "    <tr>\n",
       "      <td>2001-01-02 03:00:00</td>\n",
       "      <td>0.950</td>\n",
       "      <td>-4.554</td>\n",
       "      <td>4.283</td>\n",
       "      <td>4.273</td>\n",
       "      <td>52.06</td>\n",
       "      <td>3.964</td>\n",
       "      <td>0.494</td>\n",
       "      <td>5.292</td>\n",
       "    </tr>\n",
       "    <tr>\n",
       "      <td>2001-01-02 04:00:00</td>\n",
       "      <td>0.958</td>\n",
       "      <td>-4.513</td>\n",
       "      <td>3.359</td>\n",
       "      <td>3.347</td>\n",
       "      <td>70.40</td>\n",
       "      <td>4.891</td>\n",
       "      <td>0.230</td>\n",
       "      <td>3.822</td>\n",
       "    </tr>\n",
       "    <tr>\n",
       "      <td>2001-01-02 05:00:00</td>\n",
       "      <td>0.969</td>\n",
       "      <td>-4.670</td>\n",
       "      <td>3.620</td>\n",
       "      <td>3.606</td>\n",
       "      <td>64.33</td>\n",
       "      <td>4.952</td>\n",
       "      <td>0.276</td>\n",
       "      <td>4.345</td>\n",
       "    </tr>\n",
       "    <tr>\n",
       "      <td>2001-01-02 06:00:00</td>\n",
       "      <td>0.976</td>\n",
       "      <td>-5.170</td>\n",
       "      <td>3.819</td>\n",
       "      <td>3.807</td>\n",
       "      <td>62.07</td>\n",
       "      <td>4.699</td>\n",
       "      <td>0.327</td>\n",
       "      <td>4.508</td>\n",
       "    </tr>\n",
       "  </tbody>\n",
       "</table>\n",
       "</div>"
      ],
      "text/plain": [
       "                     naturaltemperature_5  windspeedscalar  temperature_1p5  \\\n",
       "date                                                                          \n",
       "2001-01-02 02:00:00                 0.939           -4.308            4.611   \n",
       "2001-01-02 03:00:00                 0.950           -4.554            4.283   \n",
       "2001-01-02 04:00:00                 0.958           -4.513            3.359   \n",
       "2001-01-02 05:00:00                 0.969           -4.670            3.620   \n",
       "2001-01-02 06:00:00                 0.976           -5.170            3.819   \n",
       "\n",
       "                     temperature_2  relativehumidity  stationpressure  \\\n",
       "date                                                                    \n",
       "2001-01-02 02:00:00          4.599             88.60            4.156   \n",
       "2001-01-02 03:00:00          4.273             52.06            3.964   \n",
       "2001-01-02 04:00:00          3.347             70.40            4.891   \n",
       "2001-01-02 05:00:00          3.606             64.33            4.952   \n",
       "2001-01-02 06:00:00          3.807             62.07            4.699   \n",
       "\n",
       "                     solarradiation  windspeed_20f  \n",
       "date                                                \n",
       "2001-01-02 02:00:00           0.335          5.325  \n",
       "2001-01-02 03:00:00           0.494          5.292  \n",
       "2001-01-02 04:00:00           0.230          3.822  \n",
       "2001-01-02 05:00:00           0.276          4.345  \n",
       "2001-01-02 06:00:00           0.327          4.508  "
      ]
     },
     "execution_count": 90,
     "metadata": {},
     "output_type": "execute_result"
    }
   ],
   "source": [
    "# set data index as datetime column\n",
    "df.index = pd.to_datetime(df['date'])\n",
    "# filter the columns by only the required_columns\n",
    "required_cols = ['naturaltemperature_5', 'windspeedscalar', 'temperature_1p5', 'temperature_2', 'relativehumidity', 'stationpressure', 'solarradiation', 'windspeed_20f']\n",
    "df = df[required_cols]\n",
    "df.head()"
   ]
  },
  {
   "cell_type": "code",
   "execution_count": 95,
   "metadata": {},
   "outputs": [
    {
     "name": "stdout",
     "output_type": "stream",
     "text": [
      "Train X shape: (105590, 10, 8)\n",
      "Train Y shape: (105590,)\n",
      "Test X shape: (26398, 10, 8)\n",
      "Test Y shape: (26398,)\n"
     ]
    }
   ],
   "source": [
    "from sklearn.preprocessing import MinMaxScaler\n",
    "\n",
    "# Normalize the data\n",
    "scaler = MinMaxScaler()\n",
    "scaled_data = scaler.fit_transform(df)\n",
    "\n",
    "# Define sequence length and features\n",
    "sequence_length = 10  # Number of time steps in each sequence\n",
    "num_features = len(df.columns)\n",
    "\n",
    "# Create sequences and corresponding labels\n",
    "sequences = []\n",
    "labels = []\n",
    "for i in range(len(scaled_data) - sequence_length):\n",
    "    seq = scaled_data[i:i+sequence_length]\n",
    "    label = scaled_data[i+sequence_length][0]  # 'naturaltemperature_5' column index\n",
    "    sequences.append(seq)\n",
    "    labels.append(label)\n",
    "\n",
    "# Convert to numpy arrays\n",
    "sequences = np.array(sequences)\n",
    "labels = np.array(labels)\n",
    "\n",
    "# Split into train and test sets\n",
    "train_size = int(0.8 * len(sequences))\n",
    "train_x, test_x = sequences[:train_size], sequences[train_size:]\n",
    "train_y, test_y = labels[:train_size], labels[train_size:]\n",
    "\n",
    "print(\"Train X shape:\", train_x.shape)\n",
    "print(\"Train Y shape:\", train_y.shape)\n",
    "print(\"Test X shape:\", test_x.shape)\n",
    "print(\"Test Y shape:\", test_y.shape)\n"
   ]
  },
  {
   "cell_type": "code",
   "execution_count": 96,
   "metadata": {},
   "outputs": [],
   "source": [
    "from tensorflow.keras.models import Sequential\n",
    "from tensorflow.keras.layers import LSTM, Dense, Dropout\n",
    "from tensorflow.keras.callbacks import EarlyStopping, ModelCheckpoint\n",
    "\n",
    "# Create the LSTM model\n",
    "model = Sequential()\n",
    "\n",
    "# Add LSTM layers with dropout\n",
    "model.add(LSTM(units=128, input_shape=(train_x.shape[1], train_x.shape[2]), return_sequences=True))\n",
    "model.add(Dropout(0.2))\n",
    "\n",
    "model.add(LSTM(units=64, return_sequences=True))\n",
    "model.add(Dropout(0.2))\n",
    "\n",
    "model.add(LSTM(units=32, return_sequences=False))\n",
    "model.add(Dropout(0.2))\n",
    "\n",
    "# Add a dense output layer\n",
    "model.add(Dense(units=1))\n",
    "\n",
    "# Compile the model\n",
    "model.compile(optimizer='adam', loss='mean_squared_error')"
   ]
  },
  {
   "cell_type": "code",
   "execution_count": 97,
   "metadata": {},
   "outputs": [
    {
     "name": "stdout",
     "output_type": "stream",
     "text": [
      "Model: \"sequential_3\"\n",
      "_________________________________________________________________\n",
      " Layer (type)                Output Shape              Param #   \n",
      "=================================================================\n",
      " lstm_9 (LSTM)               (None, 10, 128)           70144     \n",
      "                                                                 \n",
      " dropout_9 (Dropout)         (None, 10, 128)           0         \n",
      "                                                                 \n",
      " lstm_10 (LSTM)              (None, 10, 64)            49408     \n",
      "                                                                 \n",
      " dropout_10 (Dropout)        (None, 10, 64)            0         \n",
      "                                                                 \n",
      " lstm_11 (LSTM)              (None, 32)                12416     \n",
      "                                                                 \n",
      " dropout_11 (Dropout)        (None, 32)                0         \n",
      "                                                                 \n",
      " dense_3 (Dense)             (None, 1)                 33        \n",
      "                                                                 \n",
      "=================================================================\n",
      "Total params: 132,001\n",
      "Trainable params: 132,001\n",
      "Non-trainable params: 0\n",
      "_________________________________________________________________\n"
     ]
    }
   ],
   "source": [
    "model.summary()"
   ]
  },
  {
   "cell_type": "code",
   "execution_count": 98,
   "metadata": {
    "scrolled": true
   },
   "outputs": [
    {
     "name": "stdout",
     "output_type": "stream",
     "text": [
      "Epoch 1/100\n",
      "1320/1320 [==============================] - 23s 14ms/step - loss: 0.0075 - val_loss: 8.7919e-04\n",
      "Epoch 2/100\n",
      "1320/1320 [==============================] - 19s 15ms/step - loss: 0.0027 - val_loss: 8.0958e-04\n",
      "Epoch 3/100\n",
      "1320/1320 [==============================] - 21s 16ms/step - loss: 0.0011 - val_loss: 4.3629e-04\n",
      "Epoch 4/100\n",
      "1320/1320 [==============================] - 19s 15ms/step - loss: 4.1244e-04 - val_loss: 6.4938e-04\n",
      "Epoch 5/100\n",
      "1320/1320 [==============================] - 20s 15ms/step - loss: 2.3890e-04 - val_loss: 6.9732e-04\n",
      "Epoch 6/100\n",
      "1320/1320 [==============================] - 19s 14ms/step - loss: 1.8967e-04 - val_loss: 2.5110e-04\n",
      "Epoch 7/100\n",
      "1320/1320 [==============================] - 19s 14ms/step - loss: 1.6482e-04 - val_loss: 3.1614e-04\n",
      "Epoch 8/100\n",
      "1320/1320 [==============================] - 19s 15ms/step - loss: 1.6010e-04 - val_loss: 2.4190e-04\n",
      "Epoch 9/100\n",
      "1320/1320 [==============================] - 19s 15ms/step - loss: 1.4313e-04 - val_loss: 2.2215e-04\n",
      "Epoch 10/100\n",
      "1320/1320 [==============================] - 19s 15ms/step - loss: 1.4497e-04 - val_loss: 2.2920e-04\n",
      "Epoch 11/100\n",
      "1320/1320 [==============================] - 19s 15ms/step - loss: 1.4020e-04 - val_loss: 3.1838e-04\n",
      "Epoch 12/100\n",
      "1320/1320 [==============================] - 19s 15ms/step - loss: 1.2007e-04 - val_loss: 3.1465e-04\n",
      "Epoch 13/100\n",
      "1320/1320 [==============================] - 19s 15ms/step - loss: 1.2765e-04 - val_loss: 3.8833e-04\n",
      "Epoch 14/100\n",
      "1320/1320 [==============================] - 20s 15ms/step - loss: 1.3454e-04 - val_loss: 5.5418e-04\n"
     ]
    }
   ],
   "source": [
    "# Define callbacks\n",
    "early_stopping = EarlyStopping(monitor='val_loss', patience=5, restore_best_weights=True)\n",
    "model_checkpoint = ModelCheckpoint('best_model_weights.h5', monitor='val_loss', save_best_only=True)\n",
    "\n",
    "# Train the model\n",
    "history = model.fit(\n",
    "    train_x, train_y,\n",
    "    epochs=100,\n",
    "    batch_size=64,\n",
    "    validation_split=0.2,  # Use part of the training data as validation\n",
    "    callbacks=[early_stopping, model_checkpoint]\n",
    ")"
   ]
  },
  {
   "cell_type": "code",
   "execution_count": 99,
   "metadata": {},
   "outputs": [
    {
     "name": "stdout",
     "output_type": "stream",
     "text": [
      "825/825 [==============================] - 4s 4ms/step - loss: 1.7681e-04\n",
      "Test Loss: 0.00017681172175798565\n"
     ]
    }
   ],
   "source": [
    "# Evaluate the best model on the test set\n",
    "best_model = tf.keras.models.load_model('best_model_weights.h5')\n",
    "test_loss = best_model.evaluate(test_x, test_y)\n",
    "#provides an estimate of how well the trained model generalizes to new, unseen data\n",
    "print(\"Test Loss:\", test_loss)"
   ]
  },
  {
   "cell_type": "code",
   "execution_count": 100,
   "metadata": {},
   "outputs": [
    {
     "data": {
      "image/png": "[encoded data removed]",
      "text/plain": [
       "<Figure size 432x288 with 1 Axes>"
      ]
     },
     "metadata": {
      "needs_background": "light"
     },
     "output_type": "display_data"
    }
   ],
   "source": [
    "# Plot training & validation loss values\n",
    "plt.plot(history.history['loss'])\n",
    "plt.plot(history.history['val_loss'])\n",
    "plt.title('Model Loss')\n",
    "plt.xlabel('Epoch')\n",
    "plt.ylabel('Loss')\n",
    "plt.legend(['Train', 'Validation'], loc='upper right')\n",
    "plt.savefig(\"MLoss.png\")\n",
    "plt.show()"
   ]
  },
  {
   "cell_type": "code",
   "execution_count": 101,
   "metadata": {},
   "outputs": [
    {
     "name": "stdout",
     "output_type": "stream",
     "text": [
      "825/825 [==============================] - 4s 4ms/step\n",
      "Mean Absolute Error (MAE): 0.004908275340278715\n",
      "Mean Squared Error (MSE): 0.00017681170242666888\n",
      "Root Mean Squared Error (RMSE): 0.013297056156408037\n"
     ]
    }
   ],
   "source": [
    "from sklearn.metrics import mean_absolute_error, mean_squared_error\n",
    "\n",
    "# Assuming you have trained the model and have the 'best_model' object\n",
    "# Also, 'test_x' and 'test_y' should be available\n",
    "\n",
    "# Predict temperatures using the trained model\n",
    "predictions = best_model.predict(test_x)\n",
    "\n",
    "# Calculate evaluation metrics\n",
    "mae = mean_absolute_error(test_y, predictions)\n",
    "mse = mean_squared_error(test_y, predictions)\n",
    "rmse = np.sqrt(mse)\n",
    "\n",
    "print(\"Mean Absolute Error (MAE):\", mae)\n",
    "print(\"Mean Squared Error (MSE):\", mse)\n",
    "print(\"Root Mean Squared Error (RMSE):\", rmse)"
   ]
  },
  {
   "cell_type": "code",
   "execution_count": 102,
   "metadata": {},
   "outputs": [
    {
     "name": "stdout",
     "output_type": "stream",
     "text": [
      "825/825 [==============================] - 3s 4ms/step\n"
     ]
    }
   ],
   "source": [
    "# y_true values\n",
    "test_y_copies = np.repeat(test_y.reshape(-1, 1), test_x.shape[-1], axis=-1)\n",
    "true_temp = scaler.inverse_transform(test_y_copies)[:,0] # 'naturaltemperature_5' column index\n",
    "\n",
    "# predicted values\n",
    "prediction = best_model.predict(test_x)\n",
    "prediction_copies = np.repeat(prediction, num_features, axis=-1)\n",
    "predicted_temp = scaler.inverse_transform(prediction_copies)[:,0] # 'naturaltemperature_5' column index"
   ]
  },
  {
   "cell_type": "code",
   "execution_count": 103,
   "metadata": {},
   "outputs": [
    {
     "data": {
      "image/png": "[encoded data removed]",
      "text/plain": [
       "<Figure size 720x432 with 1 Axes>"
      ]
     },
     "metadata": {
      "needs_background": "light"
     },
     "output_type": "display_data"
    }
   ],
   "source": [
    "# Plotting predicted and actual temperatures\n",
    "plt.figure(figsize=(10, 6))\n",
    "plt.plot(df.index[-100:], true_temp[-100:], label='Actual')\n",
    "plt.plot(df.index[-100:], predicted_temp[-100:], label='Predicted')\n",
    "plt.title('Soil Temperature Prediction vs Actual')\n",
    "plt.xlabel('Time')\n",
    "plt.ylabel('Temperature')\n",
    "plt.legend()\n",
    "plt.savefig(\"STempPred.png\")\n",
    "plt.show()"
   ]
  },
  {
   "cell_type": "code",
   "execution_count": null,
   "metadata": {},
   "outputs": [],
   "source": []
  }
 ],
 "metadata": {
  "kernelspec": {
   "display_name": "Python 3",
   "language": "python",
   "name": "python3"
  },
  "language_info": {
   "codemirror_mode": {
    "name": "ipython",
    "version": 3
   },
   "file_extension": ".py",
   "mimetype": "text/x-python",
   "name": "python",
   "nbconvert_exporter": "python",
   "pygments_lexer": "ipython3",
   "version": "3.7.4"
  }
 },
 "nbformat": 4,
 "nbformat_minor": 2
}
